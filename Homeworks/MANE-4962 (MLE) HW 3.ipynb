{
 "cells": [
  {
   "cell_type": "markdown",
   "id": "54bf3eda",
   "metadata": {},
   "source": [
    "# Homework 3\n",
    "\n",
    "Jean Pasato\n",
    "661955756"
   ]
  },
  {
   "cell_type": "code",
   "execution_count": null,
   "id": "866b1adf",
   "metadata": {},
   "outputs": [],
   "source": [
    "### PROBLEM 1: \n",
    "\n",
    "import skimage as ski\n",
    "\n",
    "ski.io.imread()\n",
    "\n",
    "\n",
    "\n",
    "model = KMeans(k=3)\n",
    "model.fit(X_train)\n",
    "kmeans_labels = model.predict(X_test)\n",
    "cluster_coords = model.centroids\n",
    "\n",
    "# K-Means Clustering Algorithm (in the form of a class)\n",
    "\n",
    "class KMeans:\n",
    "    def __init__(self, k):\n",
    "        self.k = k\n",
    "        self.cluster_labels = None\n",
    "    def fit(self, X):\n",
    "        self.centroids = X[np.random.choice(X.shape[0], self.k, replace=False), :]\n",
    "        self.cluster_labels = np.arange(self.k)        \n",
    "        while True:\n",
    "            distances = np.array([np.linalg.norm(X - centroid, axis=1) for centroid in self.centroids])\n",
    "            self.clusters = np.argmin(distances, axis=0)\n",
    "            new_centroids = np.array([X[self.clusters == i, :].mean(axis=0) for i in range(self.k)])\n",
    "            # check convergence\n",
    "            if np.array_equal(new_centroids, self.centroids):\n",
    "                break\n",
    "            else:\n",
    "                self.centroids = new_centroids\n",
    "\n",
    "    def predict(self, X):\n",
    "        distances = np.array([np.linalg.norm(X - centroid, axis=1) for centroid in self.centroids])\n",
    "        return self.cluster_labels[np.argmin(distances, axis=0)]"
   ]
  },
  {
   "cell_type": "code",
   "execution_count": null,
   "id": "3eaef98b",
   "metadata": {},
   "outputs": [],
   "source": [
    "### PROBLEM 2:\n",
    "\n",
    "import numpy as np\n",
    "import pandas as pd\n",
    "import matplotlib.pyplot as plt\n",
    "from mpl_toolkits.mplot3d import axes3d, Axes3D\n",
    "from matplotlib import cm\n",
    "import itertools\n",
    "\n",
    "df = 'housing_prices.txt'\n",
    "columns = np.loadtxt(df, delimiter = ',', usecols = (0,1), unpack=True)\n",
    "X = np.transpose(np.array(columns[:-1]))\n",
    "y = np.transpose(np.array(columns[-1:]))\n",
    "M = y.size\n",
    "X_ = np.insert(X, 0, 1, axis=1)\n",
    "plt.figure(figsize=(11,6))\n",
    "plt.plot(X[:,1], y[:,0],'b', markersize=13)\n",
    "plt.xlabel('City Population (10)')"
   ]
  }
 ],
 "metadata": {
  "kernelspec": {
   "display_name": "Python 3 (ipykernel)",
   "language": "python",
   "name": "python3"
  },
  "language_info": {
   "codemirror_mode": {
    "name": "ipython",
    "version": 3
   },
   "file_extension": ".py",
   "mimetype": "text/x-python",
   "name": "python",
   "nbconvert_exporter": "python",
   "pygments_lexer": "ipython3",
   "version": "3.9.13"
  }
 },
 "nbformat": 4,
 "nbformat_minor": 5
}
