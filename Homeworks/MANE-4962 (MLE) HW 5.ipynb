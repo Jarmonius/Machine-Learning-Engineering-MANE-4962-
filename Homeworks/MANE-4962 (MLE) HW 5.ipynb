{
 "cells": [
  {
   "cell_type": "markdown",
   "id": "a8f76d94",
   "metadata": {},
   "source": [
    "# MANE-4962 HW 5\n",
    "Name: Jean Pasato\n",
    "RIN: 661955756"
   ]
  },
  {
   "cell_type": "code",
   "execution_count": 13,
   "id": "002d8516",
   "metadata": {},
   "outputs": [],
   "source": [
    "### PROBLEM 1A: Implement the convolutional neural network architecture\n",
    "\n",
    "import tensorflow as tf\n",
    "from tensorflow.keras import layers, datasets, models\n",
    "import matplotlib.pyplot as plt\n",
    "\n",
    "# Load data into testing and training for an XY coordinate system for CIFAR-10\n",
    "(x_train, y_train), (x_test, y_test) = tf.keras.datasets.cifar10.load_data()\n",
    "\n",
    "# Define the number of classes and define an image vector as a binary class matrix\n",
    "number_of_classes = 10\n",
    "y_train = tf.keras.utils.to_categorical(y_train, number_of_classes)\n",
    "y_test = tf.keras.utils.to_categorical(y_test, number_of_classes)\n",
    "\n",
    "# Convert to \"float\" object type\n",
    "x_train = x_train.astype('float32')/ 255\n",
    "x_test = x_test.astype('float32')/ 255\n",
    "\n",
    "# Convolution Neural Network\n",
    "\"\"\"\n",
    "First Layer: 2D Convolution Layer with 64 filters, each of size (5,5)\n",
    "and uses the ReLU activation function. Input shape of layer corresponds\n",
    "to the dimensions of the input image.\n",
    "\"\"\"\n",
    "l1 = layers.Conv2D(64, (5,5), activation = 'relu', input_shape = (32, 32, 3))\n",
    "\"\"\"\n",
    "Second Layer: Max Pooling Layer of size (2,2).\n",
    "\"\"\"\n",
    "l2 = layers.MaxPooling2D((2, 2))\n",
    "\"\"\"\n",
    "Third Layer: 2D Convolution Layer with 32 filters, each of size (3,3),\n",
    "and uses the ReLU activation function.\n",
    "\"\"\"\n",
    "l3 = layers.Conv2D(32, (3, 3), activation = 'relu')\n",
    "\"\"\"\n",
    "Fourth Layer: Max Pooling Layer of size (2,2)\n",
    "\"\"\"\n",
    "l4 = layers.MaxPooling2D((2, 2))\n",
    "\"\"\"\n",
    "Fifth Layer: 2D Convolution layer with 32 filters, each of size (3,3),\n",
    "and uses the ReLU activation function.\n",
    "\"\"\"\n",
    "l5 = layers.Conv2D(32, (3, 3), activation = 'relu')\n",
    "\"\"\"\n",
    "Sixth Layer: Flattened layer which converts the output of the previous layer\n",
    "into a one-dimensional vector.\n",
    "\"\"\"\n",
    "l6 = layers.Flatten()\n",
    "\"\"\"\n",
    "Seventh Layer: Dense layer with 64 neurons and uses the ReLU activation function.\n",
    "\"\"\"\n",
    "l7 = layers.Dense(64, activation = 'relu')\n",
    "\"\"\"\n",
    "Eighth Layer: Produces estimated probabilities to classify the CIFAR-10 classes.\n",
    "\"\"\"\n",
    "l8 = layers.Dense(10, activation = 'softmax')\n",
    "\n",
    "# Combined Model\n",
    "model = models.Sequential([l1, l2, l3, l4, l5, l6, l7, l8])\n",
    "\n",
    "# Compile Model\n",
    "model.compile(optimizer = 'adam', loss = 'categorical_crossentropy', metrics=['accuracy'])"
   ]
  },
  {
   "cell_type": "code",
   "execution_count": 14,
   "id": "7083652c",
   "metadata": {
    "scrolled": true
   },
   "outputs": [
    {
     "name": "stdout",
     "output_type": "stream",
     "text": [
      "Epoch 1/10\n",
      "782/782 [==============================] - 37s 45ms/step - loss: 1.7108 - accuracy: 0.3715 - val_loss: 1.4432 - val_accuracy: 0.4728\n",
      "Epoch 2/10\n",
      "782/782 [==============================] - 39s 49ms/step - loss: 1.3823 - accuracy: 0.5014 - val_loss: 1.3220 - val_accuracy: 0.5216\n",
      "Epoch 3/10\n",
      "782/782 [==============================] - 38s 48ms/step - loss: 1.2544 - accuracy: 0.5528 - val_loss: 1.2381 - val_accuracy: 0.5543\n",
      "Epoch 4/10\n",
      "782/782 [==============================] - 37s 47ms/step - loss: 1.1685 - accuracy: 0.5838 - val_loss: 1.1431 - val_accuracy: 0.5859\n",
      "Epoch 5/10\n",
      "782/782 [==============================] - 38s 48ms/step - loss: 1.0933 - accuracy: 0.6135 - val_loss: 1.0907 - val_accuracy: 0.6097\n",
      "Epoch 6/10\n",
      "782/782 [==============================] - 39s 49ms/step - loss: 1.0387 - accuracy: 0.6328 - val_loss: 1.0969 - val_accuracy: 0.6094\n",
      "Epoch 7/10\n",
      "782/782 [==============================] - 39s 50ms/step - loss: 0.9878 - accuracy: 0.6521 - val_loss: 1.0363 - val_accuracy: 0.6334\n",
      "Epoch 8/10\n",
      "782/782 [==============================] - 38s 48ms/step - loss: 0.9392 - accuracy: 0.6682 - val_loss: 0.9937 - val_accuracy: 0.6419\n",
      "Epoch 9/10\n",
      "782/782 [==============================] - 37s 48ms/step - loss: 0.9070 - accuracy: 0.6809 - val_loss: 0.9801 - val_accuracy: 0.6572\n",
      "Epoch 10/10\n",
      "782/782 [==============================] - 37s 48ms/step - loss: 0.8756 - accuracy: 0.6910 - val_loss: 0.9929 - val_accuracy: 0.6517\n"
     ]
    },
    {
     "data": {
      "image/png": "[encoded data removed]",
      "text/plain": [
       "<Figure size 640x480 with 1 Axes>"
      ]
     },
     "metadata": {},
     "output_type": "display_data"
    }
   ],
   "source": [
    "### PROBLEM 1B:\n",
    "\n",
    "# Calculate training and validation accuracies of CNN of 10 epochs and a batch size of 64\n",
    "history = model.fit(x_train, y_train, epochs = 10, batch_size = 64, validation_data = (x_test, y_test))\n",
    "\n",
    "# Plot\n",
    "plt.plot(history.history['accuracy'], label = 'Accuracy')\n",
    "plt.plot(history.history['val_accuracy'], label = 'Validation Accuracy')\n",
    "plt.xlabel('Epoch')\n",
    "plt.ylabel('Accuracy')\n",
    "plt.ylim([0.4, 1])\n",
    "plt.legend(loc = 'upper left')\n",
    "plt.show()\n"
   ]
  },
  {
   "cell_type": "code",
   "execution_count": 3,
   "id": "3e0fcf6e",
   "metadata": {},
   "outputs": [
    {
     "name": "stdout",
     "output_type": "stream",
     "text": [
      "Accuracy (Linear Kernel): 0.93\n"
     ]
    }
   ],
   "source": [
    "### PROBLEM 2A:\n",
    "\n",
    "\"\"\"\n",
    "Use Scikit-learn breast cancer dataset and SVM classifiers to classify breast cancer.\n",
    "Use worst compactness, worst concavity, and worst area features ONLY.\n",
    "\"\"\"\n",
    "\n",
    "import pandas as pd\n",
    "import numpy as np\n",
    "from sklearn.datasets import load_breast_cancer\n",
    "from sklearn.model_selection import train_test_split\n",
    "from sklearn.metrics import accuracy_score\n",
    "from sklearn.svm import SVC\n",
    "from sklearn.preprocessing import StandardScaler\n",
    "\n",
    "# Loading breast cancer data\n",
    "bc = load_breast_cancer()\n",
    "\n",
    "# Define features and target\n",
    "X = pd.DataFrame(bc.data, columns=bc.feature_names)\n",
    "y = bc.target\n",
    "\n",
    "# Select worst compactness, concavity and area features\n",
    "X = X[['worst compactness', 'worst concavity', 'worst area']]\n",
    "\n",
    "# Scaling features\n",
    "X_scaled = StandardScaler().fit_transform(X)\n",
    "X_train, X_test, y_train, y_test = train_test_split(X_scaled, y, test_size=0.3, stratify=y, random_state=0)\n",
    "\n",
    "# Setup Linear SVM\n",
    "svm_model = SVC(kernel='linear')\n",
    "\n",
    "# Fit SVM Model\n",
    "svm_model.fit(X_train, y_train)\n",
    "y_pred = svm_model.predict(X_test)\n",
    "accuracy = accuracy_score(y_test, y_pred)\n",
    "print(\"Accuracy (Linear Kernel): {:.2f}\".format(accuracy))"
   ]
  },
  {
   "cell_type": "code",
   "execution_count": 5,
   "id": "fd2a0637",
   "metadata": {},
   "outputs": [
    {
     "name": "stdout",
     "output_type": "stream",
     "text": [
      "Accuracy (with RBF Kernel): 0.94\n"
     ]
    }
   ],
   "source": [
    "### PROBLEM 2B:\n",
    "\n",
    "\"\"\"\n",
    "Use classification model with a radial basis function kernel with\n",
    "regularization strength parameter C = 2.\n",
    "\"\"\"\n",
    "### Set up Radial Basis Function Kerenel SVM\n",
    "svm_rbf = SVC(C=2, kernel='rbf', gamma='scale')\n",
    "svm_rbf.fit(X_train, y_train)\n",
    "y_pred_rbf = svm_rbf.predict(X_test)\n",
    "accuracy_rbf = accuracy_score(y_test, y_pred_rbf)\n",
    "print(\"Accuracy (with RBF Kernel): {:.2f}\".format(accuracy_rbf))\n"
   ]
  }
 ],
 "metadata": {
  "kernelspec": {
   "display_name": "Python 3 (ipykernel)",
   "language": "python",
   "name": "python3"
  },
  "language_info": {
   "codemirror_mode": {
    "name": "ipython",
    "version": 3
   },
   "file_extension": ".py",
   "mimetype": "text/x-python",
   "name": "python",
   "nbconvert_exporter": "python",
   "pygments_lexer": "ipython3",
   "version": "3.9.13"
  }
 },
 "nbformat": 4,
 "nbformat_minor": 5
}
